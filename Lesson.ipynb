{
  "cells": [
    {
      "cell_type": "markdown",
      "id": "ae46a534-3fb2-431b-9a2e-aced08023ac0",
      "metadata": {
        "id": "ae46a534-3fb2-431b-9a2e-aced08023ac0"
      },
      "source": [
        "## Web APIs - The Alternative to Scraping"
      ]
    },
    {
      "cell_type": "markdown",
      "id": "2a5393a0-6934-4189-8d87-090f7feea125",
      "metadata": {
        "id": "2a5393a0-6934-4189-8d87-090f7feea125"
      },
      "source": [
        "Web scraping doesn't always work. Many modern websites are built in a way that makes it particularly hard to scrape. They may do one of the following:\n",
        "\n",
        "- Incorporate \"infinite scrolling\", so that the page that is loaded is not the same as the content you want to scrape\n",
        "- Block scraping through bot detection\n",
        "- Have a website sufficiently complex that scraping is too hard to implement\n",
        "\n",
        "Why would websites actively discourage or even make scraping impossible? For the most part, we can imagine websites as a storefront. The website is designed to provide some good or service in exchange for either money (through purchases) or in exchange for the consumption of advertisements or other forms of compensation. Although these \"storefronts\" are online, they are not costless.\n",
        "\n",
        "Every time a website is requested, the server must send that information to the person/computer/bot that has requested it. This might be very cheap for a single request, but these costs add up when hundreds, thousands, or even millions of requests must be processed. When we scrape a website, we are in essence trying to collect a good (data) without compensating the group who maintains the website. For this reason, many websites will seek to block web scraping whenever they detect it, and will include a statement to this effect in their terms of service.\n",
        "\n",
        "In cases where scraping is not feasible for one reason or another, we will need an alternative way to collect data. Web APIs will be our key to data collection in these situations.\n"
      ]
    },
    {
      "cell_type": "markdown",
      "id": "23fbaebd-86ae-4280-85d3-103a06e42686",
      "metadata": {
        "id": "23fbaebd-86ae-4280-85d3-103a06e42686"
      },
      "source": [
        "## What are web APIs?\n",
        "\n",
        "The acronym **API** stands for **Application Programming Interface**, and is the name for the way in which a program or user may communicate with another program. Using an API enables the creation of explicit mechanisms for input and output of data.\n",
        "\n",
        "A **web API** is simply the API that allows users and programs to interact with a website or web service, so that we can automate or streamline online interactions. APIs are used for the following (and much more!):\n",
        "\n",
        "- 3rd party social media apps\n",
        "- Map interfaces on business websites\n",
        "- Data collection\n",
        "\n",
        "\n",
        "### Comparing APIs to Scraping\n",
        "\n",
        "When using a web API, our process is very different than when we scrape. As discussed earlier, scraping typically occurs at the expense of the service provider, making many websites averse to allowing scraping to take place. On the other hand, when using an API, there is an explicit agreement between the provider of data and the consumer. In many cases, APIs cost money to use, and are designed to compensate the service provider in a transaction reflecting the fact that the consumer no longer seeks to buy a good/service on the website or view advertisements. Instead, the data being transferred is the product to be consumed.\n",
        "\n",
        "While we will use a free and open API to learn during this class, bear in mind that many (if not most) APIs will require the user to register before making requests, and may also require payment. This arrangement allows both users and providers to benefit from the exchange of data.\n"
      ]
    },
    {
      "cell_type": "markdown",
      "id": "77c5c1ae-1764-4b51-bd36-5f5a3ce156cc",
      "metadata": {
        "id": "77c5c1ae-1764-4b51-bd36-5f5a3ce156cc"
      },
      "source": [
        "## Using a web API\n",
        "\n",
        "To learn about using web APIs, we will experiment with the free location API provided by [zippopotam.us](http://www.zippopotam.us/). We will learn the basics of API use with the simple examples that can be implemented through the Zippopotamus API, and hopefully make some fun graphs while we are at it!\n",
        "\n",
        "Most web APIs are accessed through the use of a URL, just like any other website. We then use the various extensions of the URL to make a request for an API call, rather than to request a specific website. Let's give this a try with the `requests` library, and see what we get back as we request various URLs from Zippopotamus:"
      ]
    },
    {
      "cell_type": "code",
      "execution_count": null,
      "id": "46fe937a-474d-40e8-8a46-f63f73fa00dd",
      "metadata": {
        "id": "46fe937a-474d-40e8-8a46-f63f73fa00dd"
      },
      "outputs": [],
      "source": [
        "import requests\n",
        "\n",
        "requests.get(\"https://api.zippopotam.us/us/68022\").text"
      ]
    },
    {
      "cell_type": "markdown",
      "id": "107b08c6-3ae5-4cfb-98aa-e253d5068529",
      "metadata": {
        "id": "107b08c6-3ae5-4cfb-98aa-e253d5068529"
      },
      "source": [
        "    '{\"post code\": \"68022\", \"country\": \"United States\", \"country abbreviation\": \"US\", \"places\": [{\"place name\": \"Elkhorn\", \"longitude\": \"-96.2431\", \"state\": \"Nebraska\", \"state abbreviation\": \"NE\", \"latitude\": \"41.2756\"}]}'"
      ]
    },
    {
      "cell_type": "markdown",
      "id": "bdb7f50b-427c-42b5-a43e-566b2cc0823b",
      "metadata": {
        "id": "bdb7f50b-427c-42b5-a43e-566b2cc0823b"
      },
      "source": [
        "Cool! We got some random stuff when we requested a random page from Zippopotamus... What is this? Let's break down our URL to learn more about what is going on:\n",
        "\n",
        " - `https://api.zippopotam.us` is the URL that we will always call when making requests to or from Zippopotamus\n",
        " - `/us` tells Zippopotamus that the location we are referencing is in the United States\n",
        " - `/68022` is the postal code for which we want to extract information from Zippopotamus\n",
        "\n",
        "The data that we receive back from our request is information about the postal code that we want to examine. Before we start learning how to work with our results, let's try another API call:"
      ]
    },
    {
      "cell_type": "markdown",
      "id": "04922d3f-5031-4014-8d45-c5890a32fc14",
      "metadata": {
        "id": "04922d3f-5031-4014-8d45-c5890a32fc14"
      },
      "source": [
        "requests.get(\"https://api.zippopotam.us/us/wa/redmond\").text"
      ]
    },
    {
      "cell_type": "markdown",
      "id": "d01a5dfa-49ee-4835-a3d6-c5e5992a7139",
      "metadata": {
        "id": "d01a5dfa-49ee-4835-a3d6-c5e5992a7139"
      },
      "source": [
        "    '{\"country abbreviation\": \"US\", \"places\": [{\"place name\": \"Redmond\", \"longitude\": \"-122.1232\", \"post code\": \"98052\", \"latitude\": \"47.6718\"}, {\"place name\": \"Redmond\", \"longitude\": \"-122.0386\", \"post code\": \"98053\", \"latitude\": \"47.6462\"}, {\"place name\": \"Redmond\", \"longitude\": \"-121.8034\", \"post code\": \"98073\", \"latitude\": \"47.4323\"}], \"country\": \"United States\", \"place name\": \"Redmond\", \"state\": \"Washington\", \"state abbreviation\": \"WA\"}'\n",
        "\n",
        "\n",
        "\n",
        "In this new request, we have the following:\n",
        "\n",
        "- `https://api.zippopotam.us` is the URL that we will always call when making requests to or from Zippopotamus\n",
        "- `/us` tells Zippopotamus that the location we are referencing is in the United States\n",
        "- `/wa` tells Zippopotamus that the location is in Washington state\n",
        "- `/redmond` is the city for which we would like to extract information\n",
        "\n",
        "As might be evident from the differences between the two requests we have made, many APIs are able to access different kinds of information depending on the different requests that we make. We can find information on the city in which a postal code is located, or we can find postal codes within a city of interest! This will allow us to make requests that will generate a map of places that I have lived during my life. Let's try it out."
      ]
    },
    {
      "cell_type": "code",
      "execution_count": null,
      "id": "03c15d92-7c94-4b38-9ee8-5e595353086f",
      "metadata": {
        "id": "03c15d92-7c94-4b38-9ee8-5e595353086f"
      },
      "outputs": [],
      "source": [
        "livedThere = [\n",
        "    {\"country\": \"/us\", \"postal_code\": \"/92056\"},\n",
        "    {\"country\": \"/us\", \"postal_code\": \"/98052\"},\n",
        "    {\"country\": \"/us\", \"postal_code\": \"/84602\"},\n",
        "    {\"country\": \"/br\", \"postal_code\": \"/96225-000\"},\n",
        "    {\"country\": \"/br\", \"postal_code\": \"/96600-000\"},\n",
        "    {\"country\": \"/us\", \"postal_code\": \"/99163\"},\n",
        "    {\"country\": \"/us\", \"postal_code\": \"/68022\"},\n",
        "    {\"country\": \"/us\", \"postal_code\": \"/84102\"},\n",
        "]"
      ]
    },
    {
      "cell_type": "markdown",
      "id": "986d91f3-cd63-4dcc-acdb-b0656a169619",
      "metadata": {
        "id": "986d91f3-cd63-4dcc-acdb-b0656a169619"
      },
      "source": [
        "The cell above contains a list of dictionaries. I will iterate over this list to create my API calls:"
      ]
    },
    {
      "cell_type": "code",
      "execution_count": null,
      "id": "8df503a9-dbad-43c2-ba76-b39fb64ec383",
      "metadata": {
        "id": "8df503a9-dbad-43c2-ba76-b39fb64ec383"
      },
      "outputs": [],
      "source": [
        "for i in livedThere:\n",
        "    call = \"https://api.zippopotam.us{0}{1}\".format(i[\"country\"],i[\"postal_code\"])\n",
        "    print(call)"
      ]
    },
    {
      "cell_type": "markdown",
      "id": "054691ba-437e-443e-8b06-a123b9bfb9dd",
      "metadata": {
        "id": "054691ba-437e-443e-8b06-a123b9bfb9dd"
      },
      "source": [
        "    https://api.zippopotam.us/us/92056\n",
        "    https://api.zippopotam.us/us/98052\n",
        "    https://api.zippopotam.us/us/84602\n",
        "    https://api.zippopotam.us/br/96225-000\n",
        "    https://api.zippopotam.us/br/96600-000\n",
        "    https://api.zippopotam.us/us/99163\n",
        "    https://api.zippopotam.us/us/68022\n",
        "    https://api.zippopotam.us/us/84102\n",
        "\n",
        "\n",
        "The above code combines my country codes for each location with the postal code and the base-URL to provide my API call. Now it is time to write some code to retrieve each request and store the results in a new list:"
      ]
    },
    {
      "cell_type": "code",
      "execution_count": null,
      "id": "da4d6a90-afef-45a0-b031-1f69a75c24f5",
      "metadata": {
        "id": "da4d6a90-afef-45a0-b031-1f69a75c24f5"
      },
      "outputs": [],
      "source": [
        "locales = []\n",
        "\n",
        "for i in livedThere:\n",
        "    call = \"https://api.zippopotam.us{0}{1}\".format(i[\"country\"],i[\"postal_code\"])\n",
        "    locales.append(requests.get(call).text)\n",
        "\n",
        "locales"
      ]
    },
    {
      "cell_type": "markdown",
      "id": "41cf6d1b-5b6b-4ed2-bc43-abc4a516e10b",
      "metadata": {
        "id": "41cf6d1b-5b6b-4ed2-bc43-abc4a516e10b"
      },
      "source": [
        "    ['{\"post code\": \"92056\", \"country\": \"United States\", \"country abbreviation\": \"US\", \"places\": [{\"place name\": \"Oceanside\", \"longitude\": \"-117.2831\", \"state\": \"California\", \"state abbreviation\": \"CA\", \"latitude\": \"33.1968\"}]}',\n",
        "     '{\"post code\": \"98052\", \"country\": \"United States\", \"country abbreviation\": \"US\", \"places\": [{\"place name\": \"Redmond\", \"longitude\": \"-122.1232\", \"state\": \"Washington\", \"state abbreviation\": \"WA\", \"latitude\": \"47.6718\"}]}',\n",
        "     '{\"post code\": \"84602\", \"country\": \"United States\", \"country abbreviation\": \"US\", \"places\": [{\"place name\": \"Provo\", \"longitude\": \"-111.7325\", \"state\": \"Utah\", \"state abbreviation\": \"UT\", \"latitude\": \"40.3563\"}]}',\n",
        "     '{\"post code\": \"96225-000\", \"country\": \"Brazil\", \"country abbreviation\": \"BR\", \"places\": [{\"place name\": \"S\\\\u00e3o Jos\\\\u00e9 do Norte\", \"longitude\": \"-51.762\", \"state\": \"Rio Grande do Sul\", \"state abbreviation\": \"23\", \"latitude\": \"-31.8009\"}]}',\n",
        "     '{\"post code\": \"96600-000\", \"country\": \"Brazil\", \"country abbreviation\": \"BR\", \"places\": [{\"place name\": \"Cangu\\\\u00e7u\", \"longitude\": \"-52.6682\", \"state\": \"Rio Grande do Sul\", \"state abbreviation\": \"23\", \"latitude\": \"-31.2117\"}]}',\n",
        "     '{\"post code\": \"99163\", \"country\": \"United States\", \"country abbreviation\": \"US\", \"places\": [{\"place name\": \"Pullman\", \"longitude\": \"-117.1729\", \"state\": \"Washington\", \"state abbreviation\": \"WA\", \"latitude\": \"46.7352\"}]}',\n",
        "     '{\"post code\": \"68022\", \"country\": \"United States\", \"country abbreviation\": \"US\", \"places\": [{\"place name\": \"Elkhorn\", \"longitude\": \"-96.2431\", \"state\": \"Nebraska\", \"state abbreviation\": \"NE\", \"latitude\": \"41.2756\"}]}',\n",
        "     '{\"post code\": \"84102\", \"country\": \"United States\", \"country abbreviation\": \"US\", \"places\": [{\"place name\": \"Salt Lake City\", \"longitude\": \"-111.8627\", \"state\": \"Utah\", \"state abbreviation\": \"UT\", \"latitude\": \"40.76\"}]}']\n",
        "\n",
        "\n",
        "\n",
        "Awesome! We have the results! Except, they are really garbled....now we need to take these results and clean them up into a useable format. Let's figure out how."
      ]
    },
    {
      "cell_type": "markdown",
      "id": "aedce013-e281-4f9d-8166-c2f4de568f13",
      "metadata": {
        "id": "aedce013-e281-4f9d-8166-c2f4de568f13"
      },
      "source": [
        "## Processing `requests` results\n",
        "\n",
        "Each response from a web API will typically be returned in a **JSON** object. **JSON** stands for **Java Script Object Notation**, and is the standard format for transmitting information on the internet. While this may sound confusing, JSON is actually very easy for us to handle in Python, because it is structured EXACTLY like a Python dictionary. All we need is a way to take a JSON object and translate it into an official `dict` object.\n",
        "\n",
        "Lucky for us, the `json` library (built right into Python itself!) will make this an easy exercise."
      ]
    },
    {
      "cell_type": "code",
      "execution_count": null,
      "id": "203ef0b1-794d-49f5-9638-b0add95b9f00",
      "metadata": {
        "id": "203ef0b1-794d-49f5-9638-b0add95b9f00"
      },
      "outputs": [],
      "source": [
        "import json\n",
        "\n",
        "locales = [json.loads(i) for i in locales]\n",
        "\n",
        "locales"
      ]
    },
    {
      "cell_type": "markdown",
      "id": "64c1b15a-db6e-47e7-abbd-da78c543aa7f",
      "metadata": {
        "id": "64c1b15a-db6e-47e7-abbd-da78c543aa7f"
      },
      "source": [
        "    [{'post code': '92056',\n",
        "      'country': 'United States',\n",
        "      'country abbreviation': 'US',\n",
        "      'places': [{'place name': 'Oceanside',\n",
        "        'longitude': '-117.2831',\n",
        "        'state': 'California',\n",
        "        'state abbreviation': 'CA',\n",
        "        'latitude': '33.1968'}]},\n",
        "     {'post code': '98052',\n",
        "      'country': 'United States',\n",
        "      'country abbreviation': 'US',\n",
        "      'places': [{'place name': 'Redmond',\n",
        "        'longitude': '-122.1232',\n",
        "        'state': 'Washington',\n",
        "        'state abbreviation': 'WA',\n",
        "        'latitude': '47.6718'}]},\n",
        "     {'post code': '84602',\n",
        "      'country': 'United States',\n",
        "      'country abbreviation': 'US',\n",
        "      'places': [{'place name': 'Provo',\n",
        "        'longitude': '-111.7325',\n",
        "        'state': 'Utah',\n",
        "        'state abbreviation': 'UT',\n",
        "        'latitude': '40.3563'}]},\n",
        "     {'post code': '96225-000',\n",
        "      'country': 'Brazil',\n",
        "      'country abbreviation': 'BR',\n",
        "      'places': [{'place name': 'São José do Norte',\n",
        "        'longitude': '-51.762',\n",
        "        'state': 'Rio Grande do Sul',\n",
        "        'state abbreviation': '23',\n",
        "        'latitude': '-31.8009'}]},\n",
        "     {'post code': '96600-000',\n",
        "      'country': 'Brazil',\n",
        "      'country abbreviation': 'BR',\n",
        "      'places': [{'place name': 'Canguçu',\n",
        "        'longitude': '-52.6682',\n",
        "        'state': 'Rio Grande do Sul',\n",
        "        'state abbreviation': '23',\n",
        "        'latitude': '-31.2117'}]},\n",
        "     {'post code': '99163',\n",
        "      'country': 'United States',\n",
        "      'country abbreviation': 'US',\n",
        "      'places': [{'place name': 'Pullman',\n",
        "        'longitude': '-117.1729',\n",
        "        'state': 'Washington',\n",
        "        'state abbreviation': 'WA',\n",
        "        'latitude': '46.7352'}]},\n",
        "     {'post code': '68022',\n",
        "      'country': 'United States',\n",
        "      'country abbreviation': 'US',\n",
        "      'places': [{'place name': 'Elkhorn',\n",
        "        'longitude': '-96.2431',\n",
        "        'state': 'Nebraska',\n",
        "        'state abbreviation': 'NE',\n",
        "        'latitude': '41.2756'}]},\n",
        "     {'post code': '84102',\n",
        "      'country': 'United States',\n",
        "      'country abbreviation': 'US',\n",
        "      'places': [{'place name': 'Salt Lake City',\n",
        "        'longitude': '-111.8627',\n",
        "        'state': 'Utah',\n",
        "        'state abbreviation': 'UT',\n",
        "        'latitude': '40.76'}]}]\n",
        "\n",
        "\n",
        "\n",
        "And we are done making our data into Python data! That was easy! Next, let's just take this list of dictionaries, and make it into a Data Frame. It turns out that we can write a little bit of code to make Data Frames out of our API results through `pandas`:"
      ]
    },
    {
      "cell_type": "code",
      "execution_count": null,
      "id": "760cbf52-b40e-4ef9-84bd-c962495b2347",
      "metadata": {
        "id": "760cbf52-b40e-4ef9-84bd-c962495b2347"
      },
      "outputs": [],
      "source": [
        "import pandas as pd\n",
        "\n",
        "locales = pd.DataFrame(locales)\n",
        "\n",
        "data = []\n",
        "for i in locales.index:\n",
        "    temp = pd.DataFrame(locales.loc[i, 'places'])\n",
        "    temp['post_code'] = locales.loc[i, 'post code']\n",
        "    temp['country'] = locales.loc[i, 'country']\n",
        "    temp['country_code'] = locales.loc[i, 'country abbreviation']\n",
        "    data.append(temp)\n",
        "\n",
        "data = pd.concat(data, axis=0).reset_index(drop=True)\n",
        "\n",
        "data"
      ]
    },
    {
      "cell_type": "markdown",
      "id": "db9476f8-83df-44b1-ab91-7b9abea70544",
      "metadata": {
        "id": "db9476f8-83df-44b1-ab91-7b9abea70544"
      },
      "source": [
        "<div>\n",
        "<style scoped>\n",
        "    .dataframe tbody tr th:only-of-type {\n",
        "        vertical-align: middle;\n",
        "    }\n",
        "\n",
        "    .dataframe tbody tr th {\n",
        "        vertical-align: top;\n",
        "    }\n",
        "\n",
        "    .dataframe thead th {\n",
        "        text-align: right;\n",
        "    }\n",
        "</style>\n",
        "<table border=\"1\" class=\"dataframe\">\n",
        "  <thead>\n",
        "    <tr style=\"text-align: right;\">\n",
        "      <th></th>\n",
        "      <th>place name</th>\n",
        "      <th>longitude</th>\n",
        "      <th>state</th>\n",
        "      <th>state abbreviation</th>\n",
        "      <th>latitude</th>\n",
        "      <th>post_code</th>\n",
        "      <th>country</th>\n",
        "      <th>country_code</th>\n",
        "    </tr>\n",
        "  </thead>\n",
        "  <tbody>\n",
        "    <tr>\n",
        "      <th>0</th>\n",
        "      <td>Oceanside</td>\n",
        "      <td>-117.2831</td>\n",
        "      <td>California</td>\n",
        "      <td>CA</td>\n",
        "      <td>33.1968</td>\n",
        "      <td>92056</td>\n",
        "      <td>United States</td>\n",
        "      <td>US</td>\n",
        "    </tr>\n",
        "    <tr>\n",
        "      <th>1</th>\n",
        "      <td>Redmond</td>\n",
        "      <td>-122.1232</td>\n",
        "      <td>Washington</td>\n",
        "      <td>WA</td>\n",
        "      <td>47.6718</td>\n",
        "      <td>98052</td>\n",
        "      <td>United States</td>\n",
        "      <td>US</td>\n",
        "    </tr>\n",
        "    <tr>\n",
        "      <th>2</th>\n",
        "      <td>Provo</td>\n",
        "      <td>-111.7325</td>\n",
        "      <td>Utah</td>\n",
        "      <td>UT</td>\n",
        "      <td>40.3563</td>\n",
        "      <td>84602</td>\n",
        "      <td>United States</td>\n",
        "      <td>US</td>\n",
        "    </tr>\n",
        "    <tr>\n",
        "      <th>3</th>\n",
        "      <td>São José do Norte</td>\n",
        "      <td>-51.762</td>\n",
        "      <td>Rio Grande do Sul</td>\n",
        "      <td>23</td>\n",
        "      <td>-31.8009</td>\n",
        "      <td>96225-000</td>\n",
        "      <td>Brazil</td>\n",
        "      <td>BR</td>\n",
        "    </tr>\n",
        "    <tr>\n",
        "      <th>4</th>\n",
        "      <td>Canguçu</td>\n",
        "      <td>-52.6682</td>\n",
        "      <td>Rio Grande do Sul</td>\n",
        "      <td>23</td>\n",
        "      <td>-31.2117</td>\n",
        "      <td>96600-000</td>\n",
        "      <td>Brazil</td>\n",
        "      <td>BR</td>\n",
        "    </tr>\n",
        "    <tr>\n",
        "      <th>5</th>\n",
        "      <td>Pullman</td>\n",
        "      <td>-117.1729</td>\n",
        "      <td>Washington</td>\n",
        "      <td>WA</td>\n",
        "      <td>46.7352</td>\n",
        "      <td>99163</td>\n",
        "      <td>United States</td>\n",
        "      <td>US</td>\n",
        "    </tr>\n",
        "    <tr>\n",
        "      <th>6</th>\n",
        "      <td>Elkhorn</td>\n",
        "      <td>-96.2431</td>\n",
        "      <td>Nebraska</td>\n",
        "      <td>NE</td>\n",
        "      <td>41.2756</td>\n",
        "      <td>68022</td>\n",
        "      <td>United States</td>\n",
        "      <td>US</td>\n",
        "    </tr>\n",
        "    <tr>\n",
        "      <th>7</th>\n",
        "      <td>Salt Lake City</td>\n",
        "      <td>-111.8627</td>\n",
        "      <td>Utah</td>\n",
        "      <td>UT</td>\n",
        "      <td>40.76</td>\n",
        "      <td>84102</td>\n",
        "      <td>United States</td>\n",
        "      <td>US</td>\n",
        "    </tr>\n",
        "  </tbody>\n",
        "</table>\n",
        "</div>\n",
        "\n",
        "\n",
        "\n",
        "Now that we have a nice, clean Data Frame containing the information on different locations, we can make a map out of it (we will cover mapping later in this course):"
      ]
    },
    {
      "cell_type": "code",
      "execution_count": null,
      "id": "1027c7a1-d70f-4477-845c-75f637a746bf",
      "metadata": {
        "id": "1027c7a1-d70f-4477-845c-75f637a746bf"
      },
      "outputs": [],
      "source": [
        "import plotly.express as px\n",
        "\n",
        "px.scatter_geo(data, 'latitude', 'longitude',\n",
        "               hover_data=['place name', 'state', 'country'],\n",
        "               color='country',\n",
        "               projection = 'natural earth',\n",
        "               width = 900,\n",
        "               height = 600,\n",
        "               )"
      ]
    },
    {
      "cell_type": "markdown",
      "id": "90377ded-981a-416c-9aa2-20f46a279466",
      "metadata": {
        "id": "90377ded-981a-416c-9aa2-20f46a279466"
      },
      "source": [
        "And there you have it! A map of places that I have lived!\n",
        "\n",
        "![](newplot.png)\n",
        "\n",
        "It really looks a lot less impressive on a world map...\n",
        "\n",
        "APIs will allow us to do all sorts of amazing work. Some APIs that are awesome but require accounts are listed below:\n",
        "\n",
        "- [Twitter Realtime Tweet Filter](https://developer.twitter.com/en/docs/tweets/filter-realtime/overview)\n",
        "- [Tracker.gg](https://tracker.gg/)\n",
        "- [Google Maps Distance Matrix](https://developers.google.com/maps/documentation/distance-matrix/intro)\n",
        "\n",
        "With web scraping and APIs at our fingertips, our ability to gather and investigate data is limited only by our ability to come up with interesting research questions."
      ]
    },
    {
      "cell_type": "markdown",
      "id": "61705461-c2bf-46c9-9ed4-d741093b565d",
      "metadata": {
        "id": "61705461-c2bf-46c9-9ed4-d741093b565d"
      },
      "source": [
        "**Solve-it!**\n",
        "\n",
        "In the cell commented with `#si-exercise` is a Data Frame called `capitals` containing capital cities in states across the United States. Use the [Zippopotam.us](https://api.zippopotam.us) API to gather latitude and longitude information on each city, and add columns named `lat` and `lon` containing the latitude and longitude data for each city, respectively. Once you have done that, map all of the cities using their latitude and longitude data on a map with `scope=usa`. Store the map as a variable called `fig`.\n",
        "\n",
        "*Hints:*\n",
        "1. If you use my code from the notes above, you can't use the projection that I used with `scope=\"usa\"`. Get rid of the `projection` argument and replace it with the scope argument.\n",
        "2. You just need to grab a single latitude and longitude for the cities. I recommend using the first one in the list.\n",
        "\n",
        "You will be graded on the following:\n",
        "- Created columns named `lat` and `lon` in the `capitals` Data Frame [1 point]\n",
        "- `lat` contains correct latitude for the city [1 point]\n",
        "- `lon` contains correct longitude for the city [1 point]\n",
        "- Map (store as `fig`) displays capitals based on latitude and longitude values [1 point]"
      ]
    },
    {
      "cell_type": "code",
      "execution_count": 5,
      "id": "a0d72710-b6ed-4b30-83c1-3ae157bbda5e",
      "metadata": {
        "colab": {
          "base_uri": "https://localhost:8080/",
          "height": 883
        },
        "id": "a0d72710-b6ed-4b30-83c1-3ae157bbda5e",
        "outputId": "c8e70481-1748-4e35-e8db-e445b12d5f81"
      },
      "outputs": [
        {
          "output_type": "error",
          "ename": "ValueError",
          "evalue": "\n    Invalid value of type 'builtins.str' received for the 'type' property of layout.geo.projection\n        Received value: 'usa'\n\n    The 'type' property is an enumeration that may be specified as:\n      - One of the following enumeration values:\n            ['airy', 'aitoff', 'albers', 'albers usa', 'august',\n            'azimuthal equal area', 'azimuthal equidistant', 'baker',\n            'bertin1953', 'boggs', 'bonne', 'bottomley', 'bromley',\n            'collignon', 'conic conformal', 'conic equal area', 'conic\n            equidistant', 'craig', 'craster', 'cylindrical equal\n            area', 'cylindrical stereographic', 'eckert1', 'eckert2',\n            'eckert3', 'eckert4', 'eckert5', 'eckert6', 'eisenlohr',\n            'equirectangular', 'fahey', 'foucaut', 'foucaut\n            sinusoidal', 'ginzburg4', 'ginzburg5', 'ginzburg6',\n            'ginzburg8', 'ginzburg9', 'gnomonic', 'gringorten',\n            'gringorten quincuncial', 'guyou', 'hammer', 'hill',\n            'homolosine', 'hufnagel', 'hyperelliptical',\n            'kavrayskiy7', 'lagrange', 'larrivee', 'laskowski',\n            'loximuthal', 'mercator', 'miller', 'mollweide', 'mt flat\n            polar parabolic', 'mt flat polar quartic', 'mt flat polar\n            sinusoidal', 'natural earth', 'natural earth1', 'natural\n            earth2', 'nell hammer', 'nicolosi', 'orthographic',\n            'patterson', 'peirce quincuncial', 'polyconic',\n            'rectangular polyconic', 'robinson', 'satellite', 'sinu\n            mollweide', 'sinusoidal', 'stereographic', 'times',\n            'transverse mercator', 'van der grinten', 'van der\n            grinten2', 'van der grinten3', 'van der grinten4',\n            'wagner4', 'wagner6', 'wiechel', 'winkel tripel',\n            'winkel3']",
          "traceback": [
            "\u001b[0;31m---------------------------------------------------------------------------\u001b[0m",
            "\u001b[0;31mValueError\u001b[0m                                Traceback (most recent call last)",
            "\u001b[0;32m<ipython-input-5-b92c7a5c8818>\u001b[0m in \u001b[0;36m<cell line: 103>\u001b[0;34m()\u001b[0m\n\u001b[1;32m    101\u001b[0m \u001b[0;34m\u001b[0m\u001b[0m\n\u001b[1;32m    102\u001b[0m \u001b[0;31m# Map the cities using latitude and longitude data\u001b[0m\u001b[0;34m\u001b[0m\u001b[0;34m\u001b[0m\u001b[0m\n\u001b[0;32m--> 103\u001b[0;31m fig = px.scatter_geo(capitals, 'latitude', 'longitude',\n\u001b[0m\u001b[1;32m    104\u001b[0m                      \u001b[0mhover_data\u001b[0m\u001b[0;34m=\u001b[0m\u001b[0;34m[\u001b[0m\u001b[0;34m'capital'\u001b[0m\u001b[0;34m,\u001b[0m \u001b[0;34m'state'\u001b[0m\u001b[0;34m]\u001b[0m\u001b[0;34m,\u001b[0m\u001b[0;34m\u001b[0m\u001b[0;34m\u001b[0m\u001b[0m\n\u001b[1;32m    105\u001b[0m                      \u001b[0mcolor\u001b[0m\u001b[0;34m=\u001b[0m\u001b[0;34m'state'\u001b[0m\u001b[0;34m,\u001b[0m\u001b[0;34m\u001b[0m\u001b[0;34m\u001b[0m\u001b[0m\n",
            "\u001b[0;32m/usr/local/lib/python3.10/dist-packages/plotly/express/_chart_types.py\u001b[0m in \u001b[0;36mscatter_geo\u001b[0;34m(data_frame, lat, lon, locations, locationmode, geojson, featureidkey, color, text, symbol, facet_row, facet_col, facet_col_wrap, facet_row_spacing, facet_col_spacing, hover_name, hover_data, custom_data, size, animation_frame, animation_group, category_orders, labels, color_discrete_sequence, color_discrete_map, color_continuous_scale, range_color, color_continuous_midpoint, symbol_sequence, symbol_map, opacity, size_max, projection, scope, center, fitbounds, basemap_visible, title, template, width, height)\u001b[0m\n\u001b[1;32m   1146\u001b[0m     \u001b[0mby\u001b[0m \u001b[0ma\u001b[0m \u001b[0msymbol\u001b[0m \u001b[0mmark\u001b[0m \u001b[0mon\u001b[0m \u001b[0ma\u001b[0m \u001b[0mmap\u001b[0m\u001b[0;34m.\u001b[0m\u001b[0;34m\u001b[0m\u001b[0;34m\u001b[0m\u001b[0m\n\u001b[1;32m   1147\u001b[0m     \"\"\"\n\u001b[0;32m-> 1148\u001b[0;31m     return make_figure(\n\u001b[0m\u001b[1;32m   1149\u001b[0m         \u001b[0margs\u001b[0m\u001b[0;34m=\u001b[0m\u001b[0mlocals\u001b[0m\u001b[0;34m(\u001b[0m\u001b[0;34m)\u001b[0m\u001b[0;34m,\u001b[0m\u001b[0;34m\u001b[0m\u001b[0;34m\u001b[0m\u001b[0m\n\u001b[1;32m   1150\u001b[0m         \u001b[0mconstructor\u001b[0m\u001b[0;34m=\u001b[0m\u001b[0mgo\u001b[0m\u001b[0;34m.\u001b[0m\u001b[0mScattergeo\u001b[0m\u001b[0;34m,\u001b[0m\u001b[0;34m\u001b[0m\u001b[0;34m\u001b[0m\u001b[0m\n",
            "\u001b[0;32m/usr/local/lib/python3.10/dist-packages/plotly/express/_core.py\u001b[0m in \u001b[0;36mmake_figure\u001b[0;34m(args, constructor, trace_patch, layout_patch)\u001b[0m\n\u001b[1;32m   2288\u001b[0m     \u001b[0mfig\u001b[0m\u001b[0;34m.\u001b[0m\u001b[0m_px_trendlines\u001b[0m \u001b[0;34m=\u001b[0m \u001b[0mpd\u001b[0m\u001b[0;34m.\u001b[0m\u001b[0mDataFrame\u001b[0m\u001b[0;34m(\u001b[0m\u001b[0mtrendline_rows\u001b[0m\u001b[0;34m)\u001b[0m\u001b[0;34m\u001b[0m\u001b[0;34m\u001b[0m\u001b[0m\n\u001b[1;32m   2289\u001b[0m \u001b[0;34m\u001b[0m\u001b[0m\n\u001b[0;32m-> 2290\u001b[0;31m     \u001b[0mconfigure_axes\u001b[0m\u001b[0;34m(\u001b[0m\u001b[0margs\u001b[0m\u001b[0;34m,\u001b[0m \u001b[0mconstructor\u001b[0m\u001b[0;34m,\u001b[0m \u001b[0mfig\u001b[0m\u001b[0;34m,\u001b[0m \u001b[0morders\u001b[0m\u001b[0;34m)\u001b[0m\u001b[0;34m\u001b[0m\u001b[0;34m\u001b[0m\u001b[0m\n\u001b[0m\u001b[1;32m   2291\u001b[0m     \u001b[0mconfigure_animation_controls\u001b[0m\u001b[0;34m(\u001b[0m\u001b[0margs\u001b[0m\u001b[0;34m,\u001b[0m \u001b[0mconstructor\u001b[0m\u001b[0;34m,\u001b[0m \u001b[0mfig\u001b[0m\u001b[0;34m)\u001b[0m\u001b[0;34m\u001b[0m\u001b[0;34m\u001b[0m\u001b[0m\n\u001b[1;32m   2292\u001b[0m     \u001b[0;32mreturn\u001b[0m \u001b[0mfig\u001b[0m\u001b[0;34m\u001b[0m\u001b[0;34m\u001b[0m\u001b[0m\n",
            "\u001b[0;32m/usr/local/lib/python3.10/dist-packages/plotly/express/_core.py\u001b[0m in \u001b[0;36mconfigure_axes\u001b[0;34m(args, constructor, fig, orders)\u001b[0m\n\u001b[1;32m    540\u001b[0m         \u001b[0mconfigurators\u001b[0m\u001b[0;34m[\u001b[0m\u001b[0mc\u001b[0m\u001b[0;34m]\u001b[0m \u001b[0;34m=\u001b[0m \u001b[0mconfigure_cartesian_axes\u001b[0m\u001b[0;34m\u001b[0m\u001b[0;34m\u001b[0m\u001b[0m\n\u001b[1;32m    541\u001b[0m     \u001b[0;32mif\u001b[0m \u001b[0mconstructor\u001b[0m \u001b[0;32min\u001b[0m \u001b[0mconfigurators\u001b[0m\u001b[0;34m:\u001b[0m\u001b[0;34m\u001b[0m\u001b[0;34m\u001b[0m\u001b[0m\n\u001b[0;32m--> 542\u001b[0;31m         \u001b[0mconfigurators\u001b[0m\u001b[0;34m[\u001b[0m\u001b[0mconstructor\u001b[0m\u001b[0;34m]\u001b[0m\u001b[0;34m(\u001b[0m\u001b[0margs\u001b[0m\u001b[0;34m,\u001b[0m \u001b[0mfig\u001b[0m\u001b[0;34m,\u001b[0m \u001b[0morders\u001b[0m\u001b[0;34m)\u001b[0m\u001b[0;34m\u001b[0m\u001b[0;34m\u001b[0m\u001b[0m\n\u001b[0m\u001b[1;32m    543\u001b[0m \u001b[0;34m\u001b[0m\u001b[0m\n\u001b[1;32m    544\u001b[0m \u001b[0;34m\u001b[0m\u001b[0m\n",
            "\u001b[0;32m/usr/local/lib/python3.10/dist-packages/plotly/express/_core.py\u001b[0m in \u001b[0;36mconfigure_geo\u001b[0;34m(args, fig, orders)\u001b[0m\n\u001b[1;32m    740\u001b[0m \u001b[0;34m\u001b[0m\u001b[0m\n\u001b[1;32m    741\u001b[0m \u001b[0;32mdef\u001b[0m \u001b[0mconfigure_geo\u001b[0m\u001b[0;34m(\u001b[0m\u001b[0margs\u001b[0m\u001b[0;34m,\u001b[0m \u001b[0mfig\u001b[0m\u001b[0;34m,\u001b[0m \u001b[0morders\u001b[0m\u001b[0;34m)\u001b[0m\u001b[0;34m:\u001b[0m\u001b[0;34m\u001b[0m\u001b[0;34m\u001b[0m\u001b[0m\n\u001b[0;32m--> 742\u001b[0;31m     fig.update_geos(\n\u001b[0m\u001b[1;32m    743\u001b[0m         \u001b[0mcenter\u001b[0m\u001b[0;34m=\u001b[0m\u001b[0margs\u001b[0m\u001b[0;34m[\u001b[0m\u001b[0;34m\"center\"\u001b[0m\u001b[0;34m]\u001b[0m\u001b[0;34m,\u001b[0m\u001b[0;34m\u001b[0m\u001b[0;34m\u001b[0m\u001b[0m\n\u001b[1;32m    744\u001b[0m         \u001b[0mscope\u001b[0m\u001b[0;34m=\u001b[0m\u001b[0margs\u001b[0m\u001b[0;34m[\u001b[0m\u001b[0;34m\"scope\"\u001b[0m\u001b[0;34m]\u001b[0m\u001b[0;34m,\u001b[0m\u001b[0;34m\u001b[0m\u001b[0;34m\u001b[0m\u001b[0m\n",
            "\u001b[0;32m/usr/local/lib/python3.10/dist-packages/plotly/graph_objs/_figure.py\u001b[0m in \u001b[0;36mupdate_geos\u001b[0;34m(self, patch, selector, overwrite, row, col, **kwargs)\u001b[0m\n\u001b[1;32m  21466\u001b[0m         \"\"\"\n\u001b[1;32m  21467\u001b[0m         \u001b[0;32mfor\u001b[0m \u001b[0mobj\u001b[0m \u001b[0;32min\u001b[0m \u001b[0mself\u001b[0m\u001b[0;34m.\u001b[0m\u001b[0mselect_geos\u001b[0m\u001b[0;34m(\u001b[0m\u001b[0mselector\u001b[0m\u001b[0;34m=\u001b[0m\u001b[0mselector\u001b[0m\u001b[0;34m,\u001b[0m \u001b[0mrow\u001b[0m\u001b[0;34m=\u001b[0m\u001b[0mrow\u001b[0m\u001b[0;34m,\u001b[0m \u001b[0mcol\u001b[0m\u001b[0;34m=\u001b[0m\u001b[0mcol\u001b[0m\u001b[0;34m)\u001b[0m\u001b[0;34m:\u001b[0m\u001b[0;34m\u001b[0m\u001b[0;34m\u001b[0m\u001b[0m\n\u001b[0;32m> 21468\u001b[0;31m             \u001b[0mobj\u001b[0m\u001b[0;34m.\u001b[0m\u001b[0mupdate\u001b[0m\u001b[0;34m(\u001b[0m\u001b[0mpatch\u001b[0m\u001b[0;34m,\u001b[0m \u001b[0moverwrite\u001b[0m\u001b[0;34m=\u001b[0m\u001b[0moverwrite\u001b[0m\u001b[0;34m,\u001b[0m \u001b[0;34m**\u001b[0m\u001b[0mkwargs\u001b[0m\u001b[0;34m)\u001b[0m\u001b[0;34m\u001b[0m\u001b[0;34m\u001b[0m\u001b[0m\n\u001b[0m\u001b[1;32m  21469\u001b[0m \u001b[0;34m\u001b[0m\u001b[0m\n\u001b[1;32m  21470\u001b[0m         \u001b[0;32mreturn\u001b[0m \u001b[0mself\u001b[0m\u001b[0;34m\u001b[0m\u001b[0;34m\u001b[0m\u001b[0m\n",
            "\u001b[0;32m/usr/local/lib/python3.10/dist-packages/plotly/basedatatypes.py\u001b[0m in \u001b[0;36mupdate\u001b[0;34m(self, dict1, overwrite, **kwargs)\u001b[0m\n\u001b[1;32m   5134\u001b[0m             \u001b[0;32mwith\u001b[0m \u001b[0mself\u001b[0m\u001b[0;34m.\u001b[0m\u001b[0mfigure\u001b[0m\u001b[0;34m.\u001b[0m\u001b[0mbatch_update\u001b[0m\u001b[0;34m(\u001b[0m\u001b[0;34m)\u001b[0m\u001b[0;34m:\u001b[0m\u001b[0;34m\u001b[0m\u001b[0;34m\u001b[0m\u001b[0m\n\u001b[1;32m   5135\u001b[0m                 \u001b[0mBaseFigure\u001b[0m\u001b[0;34m.\u001b[0m\u001b[0m_perform_update\u001b[0m\u001b[0;34m(\u001b[0m\u001b[0mself\u001b[0m\u001b[0;34m,\u001b[0m \u001b[0mdict1\u001b[0m\u001b[0;34m,\u001b[0m \u001b[0moverwrite\u001b[0m\u001b[0;34m=\u001b[0m\u001b[0moverwrite\u001b[0m\u001b[0;34m)\u001b[0m\u001b[0;34m\u001b[0m\u001b[0;34m\u001b[0m\u001b[0m\n\u001b[0;32m-> 5136\u001b[0;31m                 \u001b[0mBaseFigure\u001b[0m\u001b[0;34m.\u001b[0m\u001b[0m_perform_update\u001b[0m\u001b[0;34m(\u001b[0m\u001b[0mself\u001b[0m\u001b[0;34m,\u001b[0m \u001b[0mkwargs\u001b[0m\u001b[0;34m,\u001b[0m \u001b[0moverwrite\u001b[0m\u001b[0;34m=\u001b[0m\u001b[0moverwrite\u001b[0m\u001b[0;34m)\u001b[0m\u001b[0;34m\u001b[0m\u001b[0;34m\u001b[0m\u001b[0m\n\u001b[0m\u001b[1;32m   5137\u001b[0m         \u001b[0;32melse\u001b[0m\u001b[0;34m:\u001b[0m\u001b[0;34m\u001b[0m\u001b[0;34m\u001b[0m\u001b[0m\n\u001b[1;32m   5138\u001b[0m             \u001b[0mBaseFigure\u001b[0m\u001b[0;34m.\u001b[0m\u001b[0m_perform_update\u001b[0m\u001b[0;34m(\u001b[0m\u001b[0mself\u001b[0m\u001b[0;34m,\u001b[0m \u001b[0mdict1\u001b[0m\u001b[0;34m,\u001b[0m \u001b[0moverwrite\u001b[0m\u001b[0;34m=\u001b[0m\u001b[0moverwrite\u001b[0m\u001b[0;34m)\u001b[0m\u001b[0;34m\u001b[0m\u001b[0;34m\u001b[0m\u001b[0m\n",
            "\u001b[0;32m/usr/local/lib/python3.10/dist-packages/plotly/basedatatypes.py\u001b[0m in \u001b[0;36m_perform_update\u001b[0;34m(plotly_obj, update_obj, overwrite)\u001b[0m\n\u001b[1;32m   3916\u001b[0m                     \u001b[0;31m# Update compound objects recursively\u001b[0m\u001b[0;34m\u001b[0m\u001b[0;34m\u001b[0m\u001b[0m\n\u001b[1;32m   3917\u001b[0m                     \u001b[0;31m# plotly_obj[key].update(val)\u001b[0m\u001b[0;34m\u001b[0m\u001b[0;34m\u001b[0m\u001b[0m\n\u001b[0;32m-> 3918\u001b[0;31m                     \u001b[0mBaseFigure\u001b[0m\u001b[0;34m.\u001b[0m\u001b[0m_perform_update\u001b[0m\u001b[0;34m(\u001b[0m\u001b[0mplotly_obj\u001b[0m\u001b[0;34m[\u001b[0m\u001b[0mkey\u001b[0m\u001b[0;34m]\u001b[0m\u001b[0;34m,\u001b[0m \u001b[0mval\u001b[0m\u001b[0;34m)\u001b[0m\u001b[0;34m\u001b[0m\u001b[0;34m\u001b[0m\u001b[0m\n\u001b[0m\u001b[1;32m   3919\u001b[0m                 \u001b[0;32melif\u001b[0m \u001b[0misinstance\u001b[0m\u001b[0;34m(\u001b[0m\u001b[0mvalidator\u001b[0m\u001b[0;34m,\u001b[0m \u001b[0mCompoundArrayValidator\u001b[0m\u001b[0;34m)\u001b[0m\u001b[0;34m:\u001b[0m\u001b[0;34m\u001b[0m\u001b[0;34m\u001b[0m\u001b[0m\n\u001b[1;32m   3920\u001b[0m                     \u001b[0;32mif\u001b[0m \u001b[0mplotly_obj\u001b[0m\u001b[0;34m[\u001b[0m\u001b[0mkey\u001b[0m\u001b[0;34m]\u001b[0m\u001b[0;34m:\u001b[0m\u001b[0;34m\u001b[0m\u001b[0;34m\u001b[0m\u001b[0m\n",
            "\u001b[0;32m/usr/local/lib/python3.10/dist-packages/plotly/basedatatypes.py\u001b[0m in \u001b[0;36m_perform_update\u001b[0;34m(plotly_obj, update_obj, overwrite)\u001b[0m\n\u001b[1;32m   3937\u001b[0m                 \u001b[0;32melse\u001b[0m\u001b[0;34m:\u001b[0m\u001b[0;34m\u001b[0m\u001b[0;34m\u001b[0m\u001b[0m\n\u001b[1;32m   3938\u001b[0m                     \u001b[0;31m# Assign non-compound value\u001b[0m\u001b[0;34m\u001b[0m\u001b[0;34m\u001b[0m\u001b[0m\n\u001b[0;32m-> 3939\u001b[0;31m                     \u001b[0mplotly_obj\u001b[0m\u001b[0;34m[\u001b[0m\u001b[0mkey\u001b[0m\u001b[0;34m]\u001b[0m \u001b[0;34m=\u001b[0m \u001b[0mval\u001b[0m\u001b[0;34m\u001b[0m\u001b[0;34m\u001b[0m\u001b[0m\n\u001b[0m\u001b[1;32m   3940\u001b[0m \u001b[0;34m\u001b[0m\u001b[0m\n\u001b[1;32m   3941\u001b[0m         \u001b[0;32melif\u001b[0m \u001b[0misinstance\u001b[0m\u001b[0;34m(\u001b[0m\u001b[0mplotly_obj\u001b[0m\u001b[0;34m,\u001b[0m \u001b[0mtuple\u001b[0m\u001b[0;34m)\u001b[0m\u001b[0;34m:\u001b[0m\u001b[0;34m\u001b[0m\u001b[0;34m\u001b[0m\u001b[0m\n",
            "\u001b[0;32m/usr/local/lib/python3.10/dist-packages/plotly/basedatatypes.py\u001b[0m in \u001b[0;36m__setitem__\u001b[0;34m(self, prop, value)\u001b[0m\n\u001b[1;32m   4871\u001b[0m                 \u001b[0;31m# ### Handle simple property ###\u001b[0m\u001b[0;34m\u001b[0m\u001b[0;34m\u001b[0m\u001b[0m\n\u001b[1;32m   4872\u001b[0m                 \u001b[0;32melse\u001b[0m\u001b[0;34m:\u001b[0m\u001b[0;34m\u001b[0m\u001b[0;34m\u001b[0m\u001b[0m\n\u001b[0;32m-> 4873\u001b[0;31m                     \u001b[0mself\u001b[0m\u001b[0;34m.\u001b[0m\u001b[0m_set_prop\u001b[0m\u001b[0;34m(\u001b[0m\u001b[0mprop\u001b[0m\u001b[0;34m,\u001b[0m \u001b[0mvalue\u001b[0m\u001b[0;34m)\u001b[0m\u001b[0;34m\u001b[0m\u001b[0;34m\u001b[0m\u001b[0m\n\u001b[0m\u001b[1;32m   4874\u001b[0m             \u001b[0;32melse\u001b[0m\u001b[0;34m:\u001b[0m\u001b[0;34m\u001b[0m\u001b[0;34m\u001b[0m\u001b[0m\n\u001b[1;32m   4875\u001b[0m                 \u001b[0;31m# Make sure properties dict is initialized\u001b[0m\u001b[0;34m\u001b[0m\u001b[0;34m\u001b[0m\u001b[0m\n",
            "\u001b[0;32m/usr/local/lib/python3.10/dist-packages/plotly/basedatatypes.py\u001b[0m in \u001b[0;36m_set_prop\u001b[0;34m(self, prop, val)\u001b[0m\n\u001b[1;32m   5215\u001b[0m                 \u001b[0;32mreturn\u001b[0m\u001b[0;34m\u001b[0m\u001b[0;34m\u001b[0m\u001b[0m\n\u001b[1;32m   5216\u001b[0m             \u001b[0;32melse\u001b[0m\u001b[0;34m:\u001b[0m\u001b[0;34m\u001b[0m\u001b[0;34m\u001b[0m\u001b[0m\n\u001b[0;32m-> 5217\u001b[0;31m                 \u001b[0;32mraise\u001b[0m \u001b[0merr\u001b[0m\u001b[0;34m\u001b[0m\u001b[0;34m\u001b[0m\u001b[0m\n\u001b[0m\u001b[1;32m   5218\u001b[0m \u001b[0;34m\u001b[0m\u001b[0m\n\u001b[1;32m   5219\u001b[0m         \u001b[0;31m# val is None\u001b[0m\u001b[0;34m\u001b[0m\u001b[0;34m\u001b[0m\u001b[0m\n",
            "\u001b[0;32m/usr/local/lib/python3.10/dist-packages/plotly/basedatatypes.py\u001b[0m in \u001b[0;36m_set_prop\u001b[0;34m(self, prop, val)\u001b[0m\n\u001b[1;32m   5210\u001b[0m \u001b[0;34m\u001b[0m\u001b[0m\n\u001b[1;32m   5211\u001b[0m         \u001b[0;32mtry\u001b[0m\u001b[0;34m:\u001b[0m\u001b[0;34m\u001b[0m\u001b[0;34m\u001b[0m\u001b[0m\n\u001b[0;32m-> 5212\u001b[0;31m             \u001b[0mval\u001b[0m \u001b[0;34m=\u001b[0m \u001b[0mvalidator\u001b[0m\u001b[0;34m.\u001b[0m\u001b[0mvalidate_coerce\u001b[0m\u001b[0;34m(\u001b[0m\u001b[0mval\u001b[0m\u001b[0;34m)\u001b[0m\u001b[0;34m\u001b[0m\u001b[0;34m\u001b[0m\u001b[0m\n\u001b[0m\u001b[1;32m   5213\u001b[0m         \u001b[0;32mexcept\u001b[0m \u001b[0mValueError\u001b[0m \u001b[0;32mas\u001b[0m \u001b[0merr\u001b[0m\u001b[0;34m:\u001b[0m\u001b[0;34m\u001b[0m\u001b[0;34m\u001b[0m\u001b[0m\n\u001b[1;32m   5214\u001b[0m             \u001b[0;32mif\u001b[0m \u001b[0mself\u001b[0m\u001b[0;34m.\u001b[0m\u001b[0m_skip_invalid\u001b[0m\u001b[0;34m:\u001b[0m\u001b[0;34m\u001b[0m\u001b[0;34m\u001b[0m\u001b[0m\n",
            "\u001b[0;32m/usr/local/lib/python3.10/dist-packages/_plotly_utils/basevalidators.py\u001b[0m in \u001b[0;36mvalidate_coerce\u001b[0;34m(self, v)\u001b[0m\n\u001b[1;32m    608\u001b[0m             \u001b[0mv\u001b[0m \u001b[0;34m=\u001b[0m \u001b[0mself\u001b[0m\u001b[0;34m.\u001b[0m\u001b[0mperform_replacemenet\u001b[0m\u001b[0;34m(\u001b[0m\u001b[0mv\u001b[0m\u001b[0;34m)\u001b[0m\u001b[0;34m\u001b[0m\u001b[0;34m\u001b[0m\u001b[0m\n\u001b[1;32m    609\u001b[0m             \u001b[0;32mif\u001b[0m \u001b[0;32mnot\u001b[0m \u001b[0mself\u001b[0m\u001b[0;34m.\u001b[0m\u001b[0min_values\u001b[0m\u001b[0;34m(\u001b[0m\u001b[0mv\u001b[0m\u001b[0;34m)\u001b[0m\u001b[0;34m:\u001b[0m\u001b[0;34m\u001b[0m\u001b[0;34m\u001b[0m\u001b[0m\n\u001b[0;32m--> 610\u001b[0;31m                 \u001b[0mself\u001b[0m\u001b[0;34m.\u001b[0m\u001b[0mraise_invalid_val\u001b[0m\u001b[0;34m(\u001b[0m\u001b[0mv\u001b[0m\u001b[0;34m)\u001b[0m\u001b[0;34m\u001b[0m\u001b[0;34m\u001b[0m\u001b[0m\n\u001b[0m\u001b[1;32m    611\u001b[0m         \u001b[0;32mreturn\u001b[0m \u001b[0mv\u001b[0m\u001b[0;34m\u001b[0m\u001b[0;34m\u001b[0m\u001b[0m\n\u001b[1;32m    612\u001b[0m \u001b[0;34m\u001b[0m\u001b[0m\n",
            "\u001b[0;32m/usr/local/lib/python3.10/dist-packages/_plotly_utils/basevalidators.py\u001b[0m in \u001b[0;36mraise_invalid_val\u001b[0;34m(self, v, inds)\u001b[0m\n\u001b[1;32m    285\u001b[0m                 \u001b[0mname\u001b[0m \u001b[0;34m+=\u001b[0m \u001b[0;34m\"[\"\u001b[0m \u001b[0;34m+\u001b[0m \u001b[0mstr\u001b[0m\u001b[0;34m(\u001b[0m\u001b[0mi\u001b[0m\u001b[0;34m)\u001b[0m \u001b[0;34m+\u001b[0m \u001b[0;34m\"]\"\u001b[0m\u001b[0;34m\u001b[0m\u001b[0;34m\u001b[0m\u001b[0m\n\u001b[1;32m    286\u001b[0m \u001b[0;34m\u001b[0m\u001b[0m\n\u001b[0;32m--> 287\u001b[0;31m         raise ValueError(\n\u001b[0m\u001b[1;32m    288\u001b[0m             \"\"\"\n\u001b[1;32m    289\u001b[0m     \u001b[0mInvalid\u001b[0m \u001b[0mvalue\u001b[0m \u001b[0mof\u001b[0m \u001b[0mtype\u001b[0m \u001b[0;34m{\u001b[0m\u001b[0mtyp\u001b[0m\u001b[0;34m}\u001b[0m \u001b[0mreceived\u001b[0m \u001b[0;32mfor\u001b[0m \u001b[0mthe\u001b[0m \u001b[0;34m'{name}'\u001b[0m \u001b[0mproperty\u001b[0m \u001b[0mof\u001b[0m \u001b[0;34m{\u001b[0m\u001b[0mpname\u001b[0m\u001b[0;34m}\u001b[0m\u001b[0;34m\u001b[0m\u001b[0;34m\u001b[0m\u001b[0m\n",
            "\u001b[0;31mValueError\u001b[0m: \n    Invalid value of type 'builtins.str' received for the 'type' property of layout.geo.projection\n        Received value: 'usa'\n\n    The 'type' property is an enumeration that may be specified as:\n      - One of the following enumeration values:\n            ['airy', 'aitoff', 'albers', 'albers usa', 'august',\n            'azimuthal equal area', 'azimuthal equidistant', 'baker',\n            'bertin1953', 'boggs', 'bonne', 'bottomley', 'bromley',\n            'collignon', 'conic conformal', 'conic equal area', 'conic\n            equidistant', 'craig', 'craster', 'cylindrical equal\n            area', 'cylindrical stereographic', 'eckert1', 'eckert2',\n            'eckert3', 'eckert4', 'eckert5', 'eckert6', 'eisenlohr',\n            'equirectangular', 'fahey', 'foucaut', 'foucaut\n            sinusoidal', 'ginzburg4', 'ginzburg5', 'ginzburg6',\n            'ginzburg8', 'ginzburg9', 'gnomonic', 'gringorten',\n            'gringorten quincuncial', 'guyou', 'hammer', 'hill',\n            'homolosine', 'hufnagel', 'hyperelliptical',\n            'kavrayskiy7', 'lagrange', 'larrivee', 'laskowski',\n            'loximuthal', 'mercator', 'miller', 'mollweide', 'mt flat\n            polar parabolic', 'mt flat polar quartic', 'mt flat polar\n            sinusoidal', 'natural earth', 'natural earth1', 'natural\n            earth2', 'nell hammer', 'nicolosi', 'orthographic',\n            'patterson', 'peirce quincuncial', 'polyconic',\n            'rectangular polyconic', 'robinson', 'satellite', 'sinu\n            mollweide', 'sinusoidal', 'stereographic', 'times',\n            'transverse mercator', 'van der grinten', 'van der\n            grinten2', 'van der grinten3', 'van der grinten4',\n            'wagner4', 'wagner6', 'wiechel', 'winkel tripel',\n            'winkel3']"
          ]
        }
      ],
      "source": [
        "#si-exercise\n",
        "import requests\n",
        "import pandas as pd\n",
        "import plotly.express as px\n",
        "\n",
        "# DataFrame of state capitals\n",
        "capitals = pd.DataFrame([\n",
        "    [\"Alabama\", \"Montgomery\", \"AL\"],\n",
        "    [\"Alaska\", \"Juneau\", \"AK\"],\n",
        "    [\"Arizona\", \"Phoenix\", \"AZ\"],\n",
        "    [\"Arkansas\", \"Little Rock\", \"AR\"],\n",
        "    [\"California\", \"Sacramento\", \"CA\"],\n",
        "    [\"Colorado\", \"Denver\", \"CO\"],\n",
        "    [\"Connecticut\", \"Hartford\", \"CT\"],\n",
        "    [\"Delaware\", \"Dover\", \"DE\"],\n",
        "    [\"Florida\", \"Tallahassee\", \"FL\"],\n",
        "    [\"Georgia\", \"Atlanta\", \"GA\"],\n",
        "    [\"Hawaii\", \"Honolulu\", \"HI\"],\n",
        "    [\"Idaho\", \"Boise\", \"ID\"],\n",
        "    [\"Illinois\", \"Springfield\", \"IL\"],\n",
        "    [\"Indiana\", \"Indianapolis\", \"IN\"],\n",
        "    [\"Iowa\", \"Des Moines\", \"IA\"],\n",
        "    [\"Kansas\", \"Topeka\", \"KS\"],\n",
        "    [\"Kentucky\", \"Frankfort\", \"KY\"],\n",
        "    [\"Louisiana\", \"Baton Rouge\", \"LA\"],\n",
        "    [\"Maine\", \"Augusta\", \"ME\"],\n",
        "    [\"Maryland\", \"Annapolis\", \"MD\"],\n",
        "    [\"Massachusetts\", \"Boston\", \"MA\"],\n",
        "    [\"Michigan\", \"Lansing\", \"MI\"],\n",
        "    [\"Minnesota\", \"Saint Paul\", \"MN\"],\n",
        "    [\"Mississippi\", \"Jackson\", \"MS\"],\n",
        "    [\"Missouri\", \"Jefferson City\", \"MO\"],\n",
        "    [\"Montana\", \"Helena\", \"MT\"],\n",
        "    [\"Nebraska\", \"Lincoln\", \"NE\"],\n",
        "    [\"Nevada\", \"Carson City\", \"NV\"],\n",
        "    [\"New Hampshire\", \"Concord\", \"NH\"],\n",
        "    [\"New Jersey\", \"Trenton\", \"NJ\"],\n",
        "    [\"New Mexico\", \"Santa Fe\", \"NM\"],\n",
        "    [\"New York\", \"Albany\", \"NY\"],\n",
        "    [\"North Carolina\", \"Raleigh\", \"NC\"],\n",
        "    [\"North Dakota\", \"Bismarck\", \"ND\"],\n",
        "    [\"Ohio\", \"Columbus\", \"OH\"],\n",
        "    [\"Oklahoma\", \"Oklahoma City\", \"OK\"],\n",
        "    [\"Oregon\", \"Salem\", \"OR\"],\n",
        "    [\"Pennsylvania\", \"Harrisburg\", \"PA\"],\n",
        "    [\"Rhode Island\", \"Providence\", \"RI\"],\n",
        "    [\"South Carolina\", \"Columbia\", \"SC\"],\n",
        "    [\"South Dakota\", \"Pierre\", \"SD\"],\n",
        "    [\"Tennessee\", \"Nashville\", \"TN\"],\n",
        "    [\"Texas\", \"Austin\", \"TX\"],\n",
        "    [\"Utah\", \"Salt Lake City\", \"UT\"],\n",
        "    [\"Vermont\", \"Montpelier\", \"VT\"],\n",
        "    [\"Virginia\", \"Richmond\", \"VA\"],\n",
        "    [\"Washington\", \"Olympia\", \"WA\"],\n",
        "    [\"West Virginia\", \"Charleston\", \"WV\"],\n",
        "    [\"Wisconsin\", \"Madison\", \"WI\"],\n",
        "    [\"Wyoming\", \"Cheyenne\", \"WY\"]\n",
        "], columns=['state', 'capital', 'abbrev'])\n",
        "\n",
        "# List to store location data\n",
        "latitudes = []\n",
        "longitudes = []\n",
        "\n",
        "# Iterate over each capital\n",
        "for _, row in capitals.iterrows():\n",
        "    capital = row['capital']\n",
        "    abbrev = row['abbrev']\n",
        "\n",
        "    # Preprocess capital name to replace spaces with hyphens\n",
        "    capital_formatted = capital.replace(' ', '-')\n",
        "\n",
        "    # Construct API call URL\n",
        "    call = f\"https://api.zippopotam.us/us/{abbrev.lower()}/{capital_formatted.lower()}\"\n",
        "\n",
        "    # Make API call and retrieve data\n",
        "    response = requests.get(call)\n",
        "\n",
        "    # Initialize latitude and longitude to None\n",
        "    latitude = None\n",
        "    longitude = None\n",
        "\n",
        "    # Check if the request was successful\n",
        "    if response.status_code == 200:\n",
        "        # Parse response JSON\n",
        "        data = response.json()\n",
        "        # Extract latitude and longitude\n",
        "        if 'places' in data:\n",
        "            latitude = data['places'][0].get('latitude')\n",
        "            longitude = data['places'][0].get('longitude')\n",
        "\n",
        "    # Append latitude and longitude to lists\n",
        "    latitudes.append(latitude)\n",
        "    longitudes.append(longitude)\n",
        "\n",
        "# Add latitudes and longitudes to capitals DataFrame\n",
        "capitals['latitude'] = latitudes\n",
        "capitals['longitude'] = longitudes\n",
        "\n",
        "# Filter out any rows where latitudes or longitudes are None\n",
        "capitals = capitals.dropna(subset=['latitude', 'longitude'])\n",
        "\n",
        "# Map the cities using latitude and longitude data\n",
        "fig = px.scatter_geo(capitals, 'latitude', 'longitude',\n",
        "                     hover_data=['capital', 'state'],\n",
        "                     color='state',\n",
        "                     width=900,\n",
        "                     height=600,\n",
        "                     scope='usa')\n",
        "\n",
        "fig.show()"
      ]
    }
  ],
  "metadata": {
    "colab": {
      "provenance": []
    },
    "kernelspec": {
      "display_name": "Python 3 (ipykernel)",
      "language": "python",
      "name": "python3"
    },
    "language_info": {
      "codemirror_mode": {
        "name": "ipython",
        "version": 3
      },
      "file_extension": ".py",
      "mimetype": "text/x-python",
      "name": "python",
      "nbconvert_exporter": "python",
      "pygments_lexer": "ipython3",
      "version": "3.9.13"
    }
  },
  "nbformat": 4,
  "nbformat_minor": 5
}